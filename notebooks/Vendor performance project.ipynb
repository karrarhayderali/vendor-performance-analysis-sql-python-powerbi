{
 "cells": [
  {
   "cell_type": "code",
   "execution_count": 1,
   "id": "ebc826c3-3b89-4275-990c-9bd19e7a8e89",
   "metadata": {},
   "outputs": [],
   "source": [
    "import pandas as pd\n",
    "import os\n",
    "from sqlalchemy import create_engine\n",
    "import time\n",
    "import logging\n",
    "\n",
    "\n",
    "logging.basicConfig(\n",
    "    filename = r\"C:\\Users\\KR\\Downloads\\video\\New folder\\projects\\data\\data\\logs\\ingestion_db.log\",\n",
    "    level = logging.DEBUG,\n",
    "    format = \"%(asctime)s - %(levelname)s - %(message)s\",\n",
    "    filemode = \"a\"  \n",
    ")\n",
    "\n",
    "\n",
    "engine = create_engine(r'sqlite:///inventory.db')\n",
    "\n",
    "\n",
    "def ingest_db(df,table_name,engine):\n",
    "    ''' This function will ingest the dataframe into db table '''\n",
    "    df.to_sql(table_name, con = engine, if_exists = 'replace', index = False)\n",
    "\n",
    "    \n",
    "def load_raw_data():\n",
    "    ''' This function will load CSVs as dataframe and will ingest in db  '''\n",
    "    start = time.time()\n",
    "    for file in os.listdir(r'C:\\Users\\KR\\Downloads\\video\\New folder\\projects\\data\\data'):\n",
    "        if '.csv' in file:\n",
    "            df = pd.read_csv(r'C:\\Users\\KR\\Downloads\\video\\New folder\\projects\\data\\data/'+file)\n",
    "            logging.info(f'ingesting {file} in db ')\n",
    "            ingest_db(df, file[:-4], engine)\n",
    "    end = time.time()\n",
    "    total_time = (end - start)/60\n",
    "    logging.info('----Ingestion Completed-------')\n",
    "    logging.info(f'\\nTotal time taken {total_time} minutes')\n",
    "            \n",
    "if __name__ == '__main__':\n",
    "    load_raw_data()\n",
    "\n",
    "\n"
   ]
  },
  {
   "cell_type": "code",
   "execution_count": 14,
   "id": "95a3f67a-7633-4d83-9c3f-1effaf68c21a",
   "metadata": {},
   "outputs": [],
   "source": []
  },
  {
   "cell_type": "code",
   "execution_count": 2,
   "id": "78290ed1-26f9-4b01-9fae-24fc36e5fd5f",
   "metadata": {},
   "outputs": [],
   "source": []
  },
  {
   "cell_type": "code",
   "execution_count": null,
   "id": "9ef61f45-254a-4800-93e7-7d6e304a896b",
   "metadata": {},
   "outputs": [],
   "source": []
  },
  {
   "cell_type": "code",
   "execution_count": null,
   "id": "730e603c-984c-4254-b270-d1e45aaf7fab",
   "metadata": {
    "scrolled": true
   },
   "outputs": [],
   "source": []
  },
  {
   "cell_type": "code",
   "execution_count": 8,
   "id": "7ec2f69c-6d01-4e8a-94e2-3bbb6ec740d6",
   "metadata": {},
   "outputs": [],
   "source": []
  },
  {
   "cell_type": "code",
   "execution_count": null,
   "id": "7b66c35a-e556-409b-9b17-302f0b7b1a48",
   "metadata": {},
   "outputs": [],
   "source": []
  },
  {
   "cell_type": "code",
   "execution_count": null,
   "id": "4fd6df3e-4633-4a3a-9cbe-54eeda4f5e93",
   "metadata": {},
   "outputs": [],
   "source": []
  }
 ],
 "metadata": {
  "kernelspec": {
   "display_name": "Python 3 (ipykernel)",
   "language": "python",
   "name": "python3"
  },
  "language_info": {
   "codemirror_mode": {
    "name": "ipython",
    "version": 3
   },
   "file_extension": ".py",
   "mimetype": "text/x-python",
   "name": "python",
   "nbconvert_exporter": "python",
   "pygments_lexer": "ipython3",
   "version": "3.13.5"
  }
 },
 "nbformat": 4,
 "nbformat_minor": 5
}
